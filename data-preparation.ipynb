{
 "cells": [
  {
   "cell_type": "markdown",
   "id": "ceb42f2e",
   "metadata": {},
   "source": [
    "# Data Preparation"
   ]
  },
  {
   "cell_type": "code",
   "execution_count": 35,
   "id": "a027a804-1687-4332-bf6d-147fc1a13da9",
   "metadata": {},
   "outputs": [],
   "source": [
    "import pandas as pd\n",
    "import csv\n",
    "import matplotlib.pyplot as plt\n",
    "\n",
    "meta = pd.read_csv(r\"D:\\ML\\Portfolio\\Projects\\semantic-search\\datasets\\metadata-matches-pre-processed.txt\")"
   ]
  },
  {
   "cell_type": "markdown",
   "id": "96e87998",
   "metadata": {},
   "source": [
    "Pandas display setting management section:"
   ]
  },
  {
   "cell_type": "code",
   "execution_count": 36,
   "id": "364acdab",
   "metadata": {},
   "outputs": [],
   "source": [
    "pd.set_option('display.float_format', lambda x: f'{x:.2f}') # Format float display to 2 decimal places\n",
    "#pd.set_option('display.max_rows', None)\n",
    "#pd.set_option('display.max_colwidth', None)"
   ]
  },
  {
   "cell_type": "code",
   "execution_count": 37,
   "id": "ec7cad77",
   "metadata": {},
   "outputs": [],
   "source": [
    "#pd.reset_option('display.float_format')\n",
    "#pd.reset_option('display.max_rows')\n",
    "#pd.reset_option('display.max_colwidth')"
   ]
  },
  {
   "cell_type": "markdown",
   "id": "ca371a17",
   "metadata": {},
   "source": [
    "## 1. Data Exploration\n",
    "ADD DATASET DESCRIPTION??"
   ]
  },
  {
   "cell_type": "code",
   "execution_count": null,
   "id": "f9e8ca94",
   "metadata": {},
   "outputs": [],
   "source": [
    "meta.head()"
   ]
  },
  {
   "cell_type": "markdown",
   "id": "0a8b8f01",
   "metadata": {},
   "source": [
    "Updating columns w/ more descriptive names:"
   ]
  },
  {
   "cell_type": "code",
   "execution_count": null,
   "id": "7e7c6b7a",
   "metadata": {},
   "outputs": [],
   "source": [
    "meta.info()"
   ]
  },
  {
   "cell_type": "markdown",
   "id": "0707c07c",
   "metadata": {},
   "source": [
    "## 2. Feature Engineering"
   ]
  },
  {
   "cell_type": "markdown",
   "id": "46f30578",
   "metadata": {},
   "source": [
    "A musical composition (comp.) is defined by a combination of the composition *title* and writer *names* (as well as *ownership* % - currently out of scope).\n",
    "\n",
    "Create two new features: canonical musical comp. (*aka __composition__*) and matched musical comp. (*aka __matches__*) - capitalisation normalised set of comp. title and writer names."
   ]
  },
  {
   "cell_type": "code",
   "execution_count": 7,
   "id": "37eec078",
   "metadata": {},
   "outputs": [],
   "source": [
    "#meta['CAN_Comp'] = meta[['CAN_Title', 'CAN_Writers_Formatted']].agg(lambda x: ' - '.join(x.dropna()), axis=1).str.lower() # Use formatted writers. x.dropna() increases runtime; if an issue, consider df.fillna('')\n",
    "meta['CAN_Comp'] = meta[['CAN_Title', 'CAN_Writers_Formatted']].fillna('').agg(' - '.join, axis=1).str.lower().str.strip(' -')\n",
    "\n",
    "#meta['MATCHED_Comp'] = meta[['MATCHED_Title', 'MATCHED_Writer_1', 'MATCHED_Writer_2', 'MATCHED_Writer_3', 'MATCHED_Writer_4']].agg(lambda x: ' - '.join(x.dropna()), axis=1).str.lower() # x.dropna() increases runtime; if an issue, consider df.fillna('')\n",
    "meta['MATCHED_Comp'] = meta[['MATCHED_Title', 'MATCHED_Writer_1', 'MATCHED_Writer_2', 'MATCHED_Writer_3', 'MATCHED_Writer_4']].fillna('').agg(' - '.join, axis=1).str.lower().str.strip(' -')"
   ]
  },
  {
   "cell_type": "code",
   "execution_count": null,
   "id": "340dd4d4-eb83-4e35-8be9-7f448ac5667d",
   "metadata": {},
   "outputs": [],
   "source": [
    "meta.describe(include='all')"
   ]
  },
  {
   "cell_type": "markdown",
   "id": "2988a3d4",
   "metadata": {},
   "source": [
    "## 3. Data Cleaning and Validation"
   ]
  },
  {
   "cell_type": "markdown",
   "id": "59a023ad",
   "metadata": {},
   "source": [
    "### 1. Remove rows w/ missing writer names in the canonical part of the dataset\n",
    "Comparing 'CAN_Title' vs. 'CAN_Writers_Formatted' vs. 'CAN_Writers_Raw' counts shows that some canonical composition metadata is missing writer info. Such entries are of no use and need to be removed:"
   ]
  },
  {
   "cell_type": "code",
   "execution_count": null,
   "id": "0c88bf4e",
   "metadata": {},
   "outputs": [],
   "source": [
    "if meta[meta['CAN_Writers_Formatted'].isnull()].index.equals(meta[meta['CAN_Writers_Raw'].isnull()].index):\n",
    "    print('Missing formatted and raw writers are on the same rows.')"
   ]
  },
  {
   "cell_type": "code",
   "execution_count": null,
   "id": "25b7e13c",
   "metadata": {},
   "outputs": [],
   "source": [
    "# Count distinct compositions where canonical writers are NaN\n",
    "meta.loc[meta[['CAN_Writers_Formatted', 'CAN_Writers_Raw']].isna().all(axis=1), 'CAN_ID'].nunique() # .any(axis=1) would work as well"
   ]
  },
  {
   "cell_type": "code",
   "execution_count": 11,
   "id": "a7ac5b6b",
   "metadata": {},
   "outputs": [],
   "source": [
    "# Remove NaN rows\n",
    "meta.dropna(subset=['CAN_Writers_Formatted', 'CAN_Writers_Raw'], inplace=True) # Specifying a single writer column would work as well"
   ]
  },
  {
   "cell_type": "markdown",
   "id": "4c9f3eca",
   "metadata": {},
   "source": [
    "### 2. Review canonical database writers: validate the difference between unique formatted and unique raw"
   ]
  },
  {
   "cell_type": "code",
   "execution_count": 12,
   "id": "63fd5478",
   "metadata": {},
   "outputs": [],
   "source": [
    "# Drop and rename columns for .compare() method\n",
    "writers_raw = meta['CAN_Writers_Raw']\n",
    "writers_raw = writers_raw.str.replace(r' \\[.*?\\]', '', regex=True) # RegEx removes ' [*]'\n",
    "\n",
    "writers_formatted = meta['CAN_Writers_Formatted']"
   ]
  },
  {
   "cell_type": "code",
   "execution_count": null,
   "id": "079a4203",
   "metadata": {},
   "outputs": [],
   "source": [
    "if writers_raw.compare(writers_formatted).empty:\n",
    "    print(f\"Composers with identical names are the source of the unique count discrepency between 'CAN_Writers_Raw' and 'CAN_Writers_Formatted'\") # A strong indication this is the case. Sample values have not been reviewed."
   ]
  },
  {
   "cell_type": "markdown",
   "id": "b7b47e13",
   "metadata": {},
   "source": [
    "### 3. Conflicting canonical compositions\n",
    "Canonical comp. w/ more than 1 distinct CAN_ID (i.e. 'duplicate works'):"
   ]
  },
  {
   "cell_type": "code",
   "execution_count": null,
   "id": "edc4f175",
   "metadata": {},
   "outputs": [],
   "source": [
    "# Group by CAN_Comp and create a mask for compositions with more than one unique CAN_ID\n",
    "can_comp_group = meta.groupby('CAN_Comp')\n",
    "can_comp_mask = can_comp_group['CAN_ID'].transform('nunique') > 1\n",
    "can_comp_df = meta[can_comp_mask]\n",
    "\n",
    "# Check if there are any compositions with more than one unique identifier\n",
    "if can_comp_df.empty:\n",
    "    print('Each composition has only 1 unique identifier')\n",
    "else:\n",
    "    print(f'{can_comp_df[\"CAN_Comp\"].nunique()} compositions have {can_comp_df[\"CAN_ID\"].nunique()} distinct identifiers, affecting a total of {len(can_comp_df)} rows (sample below):')\n",
    "\n",
    "can_comp_df.drop_duplicates('CAN_ID').sort_values('CAN_Title').head() # Display a sample of the rows, sorted by CAN_Title"
   ]
  },
  {
   "cell_type": "markdown",
   "id": "583a8312",
   "metadata": {},
   "source": [
    "CAN_ID w/ more than 1 distinct canonical comp. (shouldn't be the case: reason unknown, could be alternatives titles + other unknown reasons):"
   ]
  },
  {
   "cell_type": "code",
   "execution_count": null,
   "id": "961dbca6",
   "metadata": {},
   "outputs": [],
   "source": [
    "# Group by CAN_ID and create a mask for identifiers with more than one unique CAN_Comp\n",
    "can_id_group = meta.groupby('CAN_ID')\n",
    "can_id_mask = can_id_group['CAN_Comp'].transform('nunique') > 1\n",
    "can_id_df = meta[can_id_mask]\n",
    "\n",
    "# Check if there are any identifiers with more than one unique composition\n",
    "if can_id_df.empty:\n",
    "    print('Each comp. identifier has only 1 unique composition')\n",
    "else:\n",
    "    print(f'{can_id_df[\"CAN_ID\"].nunique()} identifiers have {can_id_df[\"CAN_Comp\"].nunique()} distinct compositions, affecting a total of {len(can_id_df)} rows (sample below):')\n",
    "\n",
    "can_id_df.drop_duplicates('CAN_Comp').sort_values('CAN_ID').head() # Display a sample of the rows, sorted by CAN_ID"
   ]
  },
  {
   "cell_type": "markdown",
   "id": "92be0273",
   "metadata": {},
   "source": [
    "The reasons for the above seem benign (for the most part), i.e. duplicate works, film cues, etc.\n",
    "\n",
    "Circa 3,000 total rows affected (circa 1% of total useful rows). Remove _**all**_ to streamline data preparation:"
   ]
  },
  {
   "cell_type": "code",
   "execution_count": 16,
   "id": "0d5226a4",
   "metadata": {},
   "outputs": [],
   "source": [
    "meta = meta[~(can_id_mask | can_comp_mask)].copy() # Remove all rows"
   ]
  },
  {
   "cell_type": "markdown",
   "id": "6b94352d",
   "metadata": {},
   "source": [
    "### 4. Remove rows w/ missing matched writers\n",
    "If 'MATCHED_Writer_1' is NaN all other writer columns should be NaN in the 'matched' part of the dataset. "
   ]
  },
  {
   "cell_type": "code",
   "execution_count": null,
   "id": "03f8565e",
   "metadata": {},
   "outputs": [],
   "source": [
    "len(meta[meta['MATCHED_Writer_1'].isna()]) # Total NaN rows"
   ]
  },
  {
   "cell_type": "code",
   "execution_count": null,
   "id": "940649f7",
   "metadata": {},
   "outputs": [],
   "source": [
    "matched_nan_writer_diff = len(meta[meta['MATCHED_Writer_1'].isna()]) - len(meta[meta[['MATCHED_Writer_1', 'MATCHED_Writer_2', 'MATCHED_Writer_3', 'MATCHED_Writer_4']].isna().all(axis=1)])\n",
    "print(f'{matched_nan_writer_diff} rows with NaN Writer 1 have writers in other columns')"
   ]
  },
  {
   "cell_type": "markdown",
   "id": "cb3b35e0",
   "metadata": {},
   "source": [
    "Remove all rows (incl. w/ writers in other columns, as only 23):"
   ]
  },
  {
   "cell_type": "code",
   "execution_count": 19,
   "id": "e9889374",
   "metadata": {},
   "outputs": [],
   "source": [
    "meta.dropna(subset=['MATCHED_Writer_1'], inplace=True) # Remove all rows"
   ]
  },
  {
   "cell_type": "markdown",
   "id": "04dea5b6",
   "metadata": {},
   "source": [
    "### 5. Conflicting matches\n",
    "Matches w/ more than 1 distinct CAN_ID, i.e. potentially *incorrect* matches:"
   ]
  },
  {
   "cell_type": "code",
   "execution_count": null,
   "id": "404ecbaa",
   "metadata": {},
   "outputs": [],
   "source": [
    "# Group by MATCHED_Comp and create a mask for matches with more than one unique CAN_ID\n",
    "matched_comp_group = meta.groupby('MATCHED_Comp')\n",
    "matched_comp_mask = matched_comp_group['CAN_ID'].transform('nunique') > 1\n",
    "matched_comp_df = meta[matched_comp_mask]\n",
    "\n",
    "# Check if there are any distinct matches with more than one distinct CAN_ID\n",
    "if matched_comp_df.empty:\n",
    "    print('Each match has only 1 unique \"CAN_ID\"')\n",
    "else:\n",
    "    print(f'{matched_comp_df[\"MATCHED_Comp\"].nunique()} matches have {matched_comp_df[\"CAN_ID\"].nunique()} distinct compositions, affecting a total of {len(matched_comp_df)} rows (sample below):')\n",
    "\n",
    "matched_comp_df.drop_duplicates(['CAN_ID', 'CAN_Comp']).sort_values('CAN_ID').head() # Display a sample of the rows, sorted by CAN_ID\n"
   ]
  },
  {
   "cell_type": "markdown",
   "id": "43e048fc",
   "metadata": {},
   "source": [
    "The above conflict is due to duplicate canonical works. The most streamlined solution is to remove *all* rows:"
   ]
  },
  {
   "cell_type": "code",
   "execution_count": 21,
   "id": "8d87f84d",
   "metadata": {},
   "outputs": [],
   "source": [
    "meta = meta[~matched_comp_mask].copy() # Remove all rows"
   ]
  },
  {
   "cell_type": "markdown",
   "id": "c0e40750",
   "metadata": {},
   "source": [
    "### 6. Canonical and matched title check\n"
   ]
  },
  {
   "cell_type": "markdown",
   "id": "0cdd75d1",
   "metadata": {},
   "source": [
    "A quick additional incorrect match spot check: distinct matches where cannonical title does not equal the matched title and validation rating is 3 (not 100% sure what validation rating means, but should be the higher the rating, the more reliable match - tbc):"
   ]
  },
  {
   "cell_type": "code",
   "execution_count": 22,
   "id": "4600cd35",
   "metadata": {},
   "outputs": [],
   "source": [
    "title_mask = meta['CAN_Title'].str.lower() != meta['MATCHED_Title'].str.lower()\n",
    "val_mask = meta['VAL_RATING'] == 3"
   ]
  },
  {
   "cell_type": "code",
   "execution_count": null,
   "id": "70baca60",
   "metadata": {},
   "outputs": [],
   "source": [
    "meta[title_mask & val_mask].drop_duplicates(['CAN_ID', 'MATCHED_Comp']).sort_values('CAN_ID', ascending=False).head() # Modify n in .head(n) based on how many distinct matches to spot check"
   ]
  },
  {
   "cell_type": "markdown",
   "id": "a301229d",
   "metadata": {},
   "source": [
    "## 4. Publisher Names in Matched Writer Columns\n",
    "Not part of descriptive metadata. Part of rights management metadata and is out of scope for PoC/ prototype.\n",
    "\n",
    "1. Quick fix - only consider **MATCHED_Title** + **MATCHED_Writer_1** in a matched composition (**MATCHED_Comp_Min**)\n",
    "2. Publisher names follow certain patterns (e.g. includes 'Music', 'Publishing', etc.). Find and replace publisher names w/ empty strings\n",
    "\n",
    "Create **MATCHED_Comp_Min** feature (quick fix):"
   ]
  },
  {
   "cell_type": "code",
   "execution_count": 24,
   "id": "7fe67c49",
   "metadata": {},
   "outputs": [],
   "source": [
    "meta['MATCHED_Comp_Min'] = meta[['MATCHED_Title', 'MATCHED_Writer_1']].agg(' - '.join, axis=1).str.lower().str.strip(' -')"
   ]
  },
  {
   "cell_type": "code",
   "execution_count": null,
   "id": "8b4f194d",
   "metadata": {},
   "outputs": [],
   "source": [
    "meta.describe(include='all')"
   ]
  },
  {
   "cell_type": "markdown",
   "id": "b5039064",
   "metadata": {},
   "source": [
    "## 5. Distribution Analysis of *Unique Matches per CAN_ID*"
   ]
  },
  {
   "cell_type": "markdown",
   "id": "bff66c0d",
   "metadata": {},
   "source": [
    "### 1. Summary statistics"
   ]
  },
  {
   "cell_type": "markdown",
   "id": "a84acdb6",
   "metadata": {},
   "source": [
    "Mean (2.12) > median (1) indicates a positvely skewed distribution w/ most of the points concentrated on the left side (lower values) and a long tail on the right side (higher values), potentially w/ some high value outliers pulling the mean to the right. "
   ]
  },
  {
   "cell_type": "code",
   "execution_count": null,
   "id": "a629c21b",
   "metadata": {},
   "outputs": [],
   "source": [
    "match_count = meta.groupby('CAN_ID')['MATCHED_Comp_Min'].nunique().sort_values(ascending=False) # Create groups of CAN_IDs and their distinct matches\n",
    "match_count.describe()"
   ]
  },
  {
   "cell_type": "markdown",
   "id": "7e5fe66f",
   "metadata": {},
   "source": [
    "### 2. Drill-down analysis"
   ]
  },
  {
   "cell_type": "markdown",
   "id": "18b587f2",
   "metadata": {},
   "source": [
    "Outliers:"
   ]
  },
  {
   "cell_type": "code",
   "execution_count": null,
   "id": "b3f01703",
   "metadata": {},
   "outputs": [],
   "source": [
    "match_count[match_count > 40] # Compositions w/ top unique match counts"
   ]
  },
  {
   "cell_type": "code",
   "execution_count": 28,
   "id": "976f6490",
   "metadata": {},
   "outputs": [],
   "source": [
    "#meta[(meta['CAN_ID'] == 'C2346067')].drop_duplicates(['CAN_ID', 'MATCHED_Comp_Min']).sort_values('MATCHED_Writer_1') # Distinct match count per CAN_ID drill-down analysis\n",
    "#& (~meta['MATCHED_Writer_1'].str.contains('TORM', case=False))] # Narrow down by matched writer name"
   ]
  },
  {
   "cell_type": "markdown",
   "id": "8c92df6f",
   "metadata": {},
   "source": [
    "### 3. Distribution of distinct matches per composition"
   ]
  },
  {
   "cell_type": "code",
   "execution_count": null,
   "id": "614ea7aa",
   "metadata": {},
   "outputs": [],
   "source": [
    "# Frequency table\n",
    "match_value_count = match_count.value_counts().sort_index()\n",
    "match_value_count[match_value_count > 1000].map('{:,}'.format) "
   ]
  },
  {
   "cell_type": "code",
   "execution_count": null,
   "id": "59889aa2",
   "metadata": {},
   "outputs": [],
   "source": [
    "plt.figure(figsize=(10, 6))  # Create a new figure with specified size\n",
    "match_value_count.plot(kind='bar')  # Plot the bar chart using the frequency table\n",
    "\n",
    "# Set plot title and axis labels\n",
    "plt.title('Distribution of Matches per Composition')\n",
    "plt.xlabel('Number of Distinct Matches')\n",
    "plt.ylabel('Composition Count')\n",
    "plt.grid(axis='y')  # Add a grid to the y-axis\n",
    "\n",
    "plt.show()"
   ]
  },
  {
   "cell_type": "markdown",
   "id": "0b27a233",
   "metadata": {},
   "source": [
    "## 6.   BERT Dataset Preparation\n",
    "\n",
    "Format the dataset both for semantic search and fine-tuning."
   ]
  },
  {
   "cell_type": "code",
   "execution_count": null,
   "id": "def3d72e",
   "metadata": {},
   "outputs": [],
   "source": [
    "meta_tuning = meta[['CAN_ID', 'CAN_Title', 'CAN_Writers_Formatted', 'MATCHED_Title', 'MATCHED_Writer_1']].copy() # Use ony MATCHED_Writer_1 (omit MATCHED_Writer_2/3/4 for the PoC as contain publisher names as well writer names)\n",
    "\n",
    "tuning_cols = meta_tuning.columns.difference(['CAN_ID'])\n",
    "meta_tuning[tuning_cols] = meta_tuning[tuning_cols].apply(lambda s: s.str.lower()) # Normalise case to lower\n",
    "\n",
    "meta_tuning.drop_duplicates(['MATCHED_Title', 'MATCHED_Writer_1'], inplace=True) # Remove repeating matches\n",
    "\n",
    "meta_tuning.describe(include='all')"
   ]
  },
  {
   "cell_type": "code",
   "execution_count": null,
   "id": "68deb9cf",
   "metadata": {},
   "outputs": [],
   "source": [
    "meta_tuning.head()"
   ]
  },
  {
   "cell_type": "code",
   "execution_count": null,
   "id": "42ab7019",
   "metadata": {},
   "outputs": [],
   "source": [
    "meta_tuning.shape"
   ]
  },
  {
   "cell_type": "markdown",
   "id": "d408f209",
   "metadata": {},
   "source": [
    "Export to CVS:"
   ]
  },
  {
   "cell_type": "code",
   "execution_count": 34,
   "id": "7da001f0",
   "metadata": {},
   "outputs": [],
   "source": [
    "meta_tuning_export_path = r\"D:\\ML\\Portfolio\\Projects\\semantic-search\\datasets\\data.csv\"\n",
    "\n",
    "meta_tuning.to_csv(meta_tuning_export_path, index=False, quoting=csv.QUOTE_NONNUMERIC) # Quotes to prevent Pandas converting to numeric on import to preserve the original file data types. The empty strings are converted to NaN values on import."
   ]
  }
 ],
 "metadata": {
  "kernelspec": {
   "display_name": "Python 3 (semantic-matching)",
   "language": "python",
   "name": "python3"
  },
  "language_info": {
   "codemirror_mode": {
    "name": "ipython",
    "version": 3
   },
   "file_extension": ".py",
   "mimetype": "text/x-python",
   "name": "python",
   "nbconvert_exporter": "python",
   "pygments_lexer": "ipython3",
   "version": "3.11.9"
  }
 },
 "nbformat": 4,
 "nbformat_minor": 5
}
